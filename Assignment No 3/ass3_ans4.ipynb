{
 "cells": [
  {
   "cell_type": "code",
   "execution_count": 2,
   "metadata": {},
   "outputs": [
    {
     "name": "stdout",
     "output_type": "stream",
     "text": [
      "The sum of all Numeric Items in a dictionary is 21\n"
     ]
    }
   ],
   "source": [
    "num_check={\"First Value\": 4, \"Second Value\" : \"Karachi\", \"Third Value\": 7, \"Forth Value\" : 10}\n",
    "num_add= num_check[\"First Value\"]+num_check[\"Third Value\"]+num_check[\"Forth Value\"]\n",
    "print(\"The sum of all Numeric Items in a dictionary is\",num_add)\n"
   ]
  },
  {
   "cell_type": "code",
   "execution_count": null,
   "metadata": {},
   "outputs": [],
   "source": []
  }
 ],
 "metadata": {
  "kernelspec": {
   "display_name": "Python 3",
   "language": "python",
   "name": "python3"
  },
  "language_info": {
   "codemirror_mode": {
    "name": "ipython",
    "version": 3
   },
   "file_extension": ".py",
   "mimetype": "text/x-python",
   "name": "python",
   "nbconvert_exporter": "python",
   "pygments_lexer": "ipython3",
   "version": "3.7.4"
  }
 },
 "nbformat": 4,
 "nbformat_minor": 2
}
