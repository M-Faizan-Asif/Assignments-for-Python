{
 "cells": [
  {
   "cell_type": "code",
   "execution_count": 9,
   "metadata": {},
   "outputs": [
    {
     "name": "stdout",
     "output_type": "stream",
     "text": [
      "Enter Your First Value: 23\n",
      "Enter Your Second Value: 3\n",
      "Enter your Desired Operator to perform Calculation: ==\n",
      "Enter Correct Operator To Proceed\n"
     ]
    }
   ],
   "source": [
    "val1= int(input('Enter Your First Value: '))\n",
    "val2= int(input('Enter Your Second Value: '))\n",
    "val= input('Enter your Desired Operator to perform Calculation: ')\n",
    "if val == '+' :\n",
    "    total_val= val1+val2\n",
    "    print('Your Result for Addition of Values is',total_val)\n",
    "elif val == '-' :\n",
    "    total_val=val1-val2\n",
    "    print('Your Result for Subtraction of Values is',total_val)\n",
    "elif val=='*':\n",
    "    total_val=val1*val2\n",
    "    print('Your Result for Multiplication of Values is',total_val)\n",
    "elif val =='/' :\n",
    "    total_val=val1/val2\n",
    "    print('Your Result for Division of Values is',total_val)\n",
    "elif val=='**' :\n",
    "    total_val=val1**val2\n",
    "    print('Your Result for Power of Value',val2,'is',total_val)\n",
    "else :    \n",
    "    print('Enter Correct Operator To Proceed')\n"
   ]
  }
 ],
 "metadata": {
  "kernelspec": {
   "display_name": "Python 3",
   "language": "python",
   "name": "python3"
  },
  "language_info": {
   "codemirror_mode": {
    "name": "ipython",
    "version": 3
   },
   "file_extension": ".py",
   "mimetype": "text/x-python",
   "name": "python",
   "nbconvert_exporter": "python",
   "pygments_lexer": "ipython3",
   "version": "3.7.4"
  }
 },
 "nbformat": 4,
 "nbformat_minor": 2
}
