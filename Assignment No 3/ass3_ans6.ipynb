{
 "cells": [
  {
   "cell_type": "code",
   "execution_count": 10,
   "metadata": {},
   "outputs": [
    {
     "name": "stdout",
     "output_type": "stream",
     "text": [
      "Enter your Key to Add:Country\n",
      "Key Already Exists\n"
     ]
    }
   ],
   "source": [
    "user_info ={\"First Name\": \"Faizan\", \"Last Name\": \"Asif\", \"City\": \"Karachi\",\"Country\" : \"Pakistan\"}\n",
    "user_info_add= input(\"Enter your Key to Add:\")\n",
    "for each_value in user_info.keys():\n",
    "    if each_value==user_info_add : \n",
    "        print(\"Key Already Exists\")"
   ]
  },
  {
   "cell_type": "code",
   "execution_count": null,
   "metadata": {},
   "outputs": [],
   "source": []
  }
 ],
 "metadata": {
  "kernelspec": {
   "display_name": "Python 3",
   "language": "python",
   "name": "python3"
  },
  "language_info": {
   "codemirror_mode": {
    "name": "ipython",
    "version": 3
   },
   "file_extension": ".py",
   "mimetype": "text/x-python",
   "name": "python",
   "nbconvert_exporter": "python",
   "pygments_lexer": "ipython3",
   "version": "3.7.4"
  }
 },
 "nbformat": 4,
 "nbformat_minor": 2
}
