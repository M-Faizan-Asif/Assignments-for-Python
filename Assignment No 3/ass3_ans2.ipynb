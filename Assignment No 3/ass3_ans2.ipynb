{
 "cells": [
  {
   "cell_type": "code",
   "execution_count": 15,
   "metadata": {},
   "outputs": [
    {
     "name": "stdout",
     "output_type": "stream",
     "text": [
      "Numeric Value exist in the List i.e. 25 50 and 65\n"
     ]
    }
   ],
   "source": [
    "num_arr = [\"Faizan\",\"Asif\",25,0.9,True,\"Ali\",50,65]\n",
    "num_check = [\"Faizan\",\"Asif\",25,0.9,True,\"Ali\",50,65]\n",
    "for num_value in num_arr :\n",
    "    if num_check[2] == num_value or num_check[6]==num_value or num_check[7]==num_value :\n",
    "        print(\"Numeric Value exist in the List i.e.\",num_check[2],num_check[6],\"and\",num_check[7])\n",
    "        break\n",
    "    \n",
    "        \n",
    "    "
   ]
  }
 ],
 "metadata": {
  "kernelspec": {
   "display_name": "Python 3",
   "language": "python",
   "name": "python3"
  },
  "language_info": {
   "codemirror_mode": {
    "name": "ipython",
    "version": 3
   },
   "file_extension": ".py",
   "mimetype": "text/x-python",
   "name": "python",
   "nbconvert_exporter": "python",
   "pygments_lexer": "ipython3",
   "version": "3.7.4"
  }
 },
 "nbformat": 4,
 "nbformat_minor": 2
}
